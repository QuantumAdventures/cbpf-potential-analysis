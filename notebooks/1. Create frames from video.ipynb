{
 "cells": [
  {
   "cell_type": "markdown",
   "id": "948945e0",
   "metadata": {},
   "source": [
    "### Create frames from video\n",
    "\n",
    "This notebook presents the function responsible to process each `.mp4` file and save each frame in a subfolder inside the `data` directory."
   ]
  },
  {
   "cell_type": "code",
   "execution_count": 2,
   "id": "cecdffb7",
   "metadata": {},
   "outputs": [],
   "source": [
    "import cv2"
   ]
  },
  {
   "cell_type": "code",
   "execution_count": 3,
   "id": "f2e5aab4",
   "metadata": {},
   "outputs": [],
   "source": [
    "'''\n",
    "TO DO:\n",
    "\n",
    "Implement the function create_frames. This function receives the following parameters: \n",
    "--> The name of the video (including the directory).\n",
    "--> The folder where the images are going to be saved.\n",
    "''' \n",
    "def create_frames(video_name, folder_images):\n",
    "    '''Create set of frames from a specific mp4 or avi video\n",
    "    \n",
    "    :param video_name: Variable containing path and name of video \n",
    "    :type path: str\n",
    "    :param folder_images: Folder where the image files are going to be saved\n",
    "    :type path: str\n",
    "    '''\n",
    "    pass"
   ]
  },
  {
   "cell_type": "code",
   "execution_count": 5,
   "id": "83a599bd",
   "metadata": {},
   "outputs": [],
   "source": [
    "create_frames('add_the_filename_here', 'add_the_folder_here')"
   ]
  }
 ],
 "metadata": {
  "kernelspec": {
   "display_name": "Python 3 (ipykernel)",
   "language": "python",
   "name": "python3"
  },
  "language_info": {
   "codemirror_mode": {
    "name": "ipython",
    "version": 3
   },
   "file_extension": ".py",
   "mimetype": "text/x-python",
   "name": "python",
   "nbconvert_exporter": "python",
   "pygments_lexer": "ipython3",
   "version": "3.8.5"
  }
 },
 "nbformat": 4,
 "nbformat_minor": 5
}
