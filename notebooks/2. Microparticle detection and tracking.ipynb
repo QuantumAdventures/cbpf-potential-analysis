{
 "cells": [
  {
   "cell_type": "markdown",
   "id": "1b80ae2d",
   "metadata": {},
   "source": [
    "### Microparticle detection and tracking\n",
    "\n",
    "This notebook presents the steps to detect the Silica particle and extract the coordinates\n",
    "\n",
    "A brief summary of the organization of this notebook:\n",
    "\n",
    "### Summary\n",
    "\n",
    "- [1 - Packages and imports](#1)\n",
    "\n",
    "- [2 - Load single image as example](#2)\n",
    "\n",
    "- [3 - Pre-processing](#3)\n",
    "\n",
    "- [4 - Image masks, detection of contours and minimum area circles](#4)"
   ]
  },
  {
   "cell_type": "markdown",
   "id": "ed0596d7",
   "metadata": {},
   "source": [
    "<a name='1'></a> \n",
    "### 1. Packages and imports"
   ]
  },
  {
   "cell_type": "code",
   "execution_count": null,
   "id": "51049c98",
   "metadata": {},
   "outputs": [],
   "source": [
    "import cv2\n",
    "import os\n",
    "import matplotlib.pyplot as plt\n",
    "import numpy as np\n",
    "import pandas as pd\n",
    "import seaborn as sns\n",
    "from tqdm import tqdm"
   ]
  },
  {
   "cell_type": "markdown",
   "id": "fb81ccb9",
   "metadata": {},
   "source": [
    "<a name='2'></a> \n",
    "### 2. Load single image as example"
   ]
  },
  {
   "cell_type": "code",
   "execution_count": null,
   "id": "c965dc4b",
   "metadata": {},
   "outputs": [],
   "source": [
    "image = '../data/images/frame643.jpg'\n",
    "img = cv2.imread(image, cv2.IMREAD_COLOR)\n",
    "plt.imshow(img)\n",
    "plt.show()"
   ]
  },
  {
   "cell_type": "markdown",
   "id": "7986c8f5",
   "metadata": {},
   "source": [
    "<a name='3'></a> \n",
    "### 3. Pre-processing"
   ]
  },
  {
   "cell_type": "code",
   "execution_count": null,
   "id": "6464e2e0",
   "metadata": {},
   "outputs": [],
   "source": [
    "'''\n",
    "TO DO: \n",
    "\n",
    "Implement a method to increase the contrast in the image, this can be done using a technique entitled as Adaptive\n",
    "Histogram Equalization. The function bellow will receive an image file and then return an image with this transformation\n",
    "applied.\n",
    "'''\n",
    "def increase_contrast(img):\n",
    "    '''Increase contrast in image making the particle easier to be detected\n",
    "    \n",
    "    :param img: Original image\n",
    "    :type path: np.ndarray\n",
    "    :return enhanced_img: Image with increased contrast\n",
    "    :rtype enhanced_img: np.ndarray\n",
    "    '''\n",
    "    pass"
   ]
  },
  {
   "cell_type": "code",
   "execution_count": null,
   "id": "c0753e3a",
   "metadata": {},
   "outputs": [],
   "source": [
    "contrast = increase_contrast(img)\n",
    "contrast = increase_contrast(contrast)\n",
    "plt.imshow(np.hstack((img, contrast)))\n",
    "plt.show()"
   ]
  },
  {
   "cell_type": "code",
   "execution_count": null,
   "id": "cb5095ab",
   "metadata": {},
   "outputs": [],
   "source": [
    "'''\n",
    "TO DO: \n",
    "\n",
    "Define the values of the sub-image that will be considered\n",
    "\n",
    "\n",
    "'''\n",
    "plt.imshow(contrast[y_i:y_f, x_i:x_f])\n",
    "plt.show()"
   ]
  },
  {
   "cell_type": "code",
   "execution_count": null,
   "id": "ab13fc8c",
   "metadata": {},
   "outputs": [],
   "source": [
    "'''\n",
    "TO DO:\n",
    "\n",
    "Implement a for loop that will execute a median filter and a gaussian filter in the cropped image, \n",
    "these filters will use a kernel with the dimension parameter equals to `5`. The for loop will executed N times \n",
    "both filters, for a initial implementation consider N=1.\n",
    "'''\n",
    "cropped = contrast[x_i:x_f, y_i:y_f]\n",
    "\n",
    "\n",
    "plt.imshow(cropped)\n",
    "plt.show()"
   ]
  },
  {
   "cell_type": "markdown",
   "id": "d1f7a5b0",
   "metadata": {},
   "source": [
    "<a name='4'></a> \n",
    "### 4. Image masks, detection of contours and minimum area circles]"
   ]
  },
  {
   "cell_type": "code",
   "execution_count": null,
   "id": "5c200409",
   "metadata": {},
   "outputs": [],
   "source": [
    "'''\n",
    "TO DO:\n",
    "\n",
    "In this cell define a color mask and apply to the HSV format to the image, after this, apply the \n",
    "resulting filtered HSV image with a bitwise operation to the cropped image, passing the final image to\n",
    "a variable called `res`\n",
    "\n",
    "'''\n",
    "plt.imshow(res)\n",
    "plt.show()"
   ]
  },
  {
   "cell_type": "code",
   "execution_count": null,
   "id": "21e895ef",
   "metadata": {},
   "outputs": [],
   "source": [
    "for i in range(5):\n",
    "    res = cv2.medianBlur(res, 5)\n",
    "plt.imshow(res)\n",
    "plt.show()"
   ]
  },
  {
   "cell_type": "code",
   "execution_count": null,
   "id": "69bb0fe0",
   "metadata": {},
   "outputs": [],
   "source": [
    "'''\n",
    "TO DO:\n",
    "\n",
    "Execute a canny edges operator in the image, with this we will be able to extract the countours of \n",
    "all the polygons in the images.\n",
    "'''\n",
    "\n",
    "\n",
    "plt.imshow(cv2.Canny(res, 100, 200))\n",
    "plt.show()"
   ]
  },
  {
   "cell_type": "code",
   "execution_count": null,
   "id": "6062038a",
   "metadata": {},
   "outputs": [],
   "source": [
    "'''\n",
    "TO DO:\n",
    "\n",
    "Extract the contours of the canny image. OpenCV has a function which allows to find the smallest circle \n",
    "capable the contour. Many contours will be find, its important to consider conditions to filter the outliers.\n",
    "\n",
    "A tip is to consider only circles within a certain range of positions and with certain values of radius.\n",
    "\n",
    "Draw a rectangle in the cropped image to verify the quality of your work.\n",
    "'''"
   ]
  }
 ],
 "metadata": {
  "kernelspec": {
   "display_name": "Python 3 (ipykernel)",
   "language": "python",
   "name": "python3"
  },
  "language_info": {
   "codemirror_mode": {
    "name": "ipython",
    "version": 3
   },
   "file_extension": ".py",
   "mimetype": "text/x-python",
   "name": "python",
   "nbconvert_exporter": "python",
   "pygments_lexer": "ipython3",
   "version": "3.8.5"
  }
 },
 "nbformat": 4,
 "nbformat_minor": 5
}
