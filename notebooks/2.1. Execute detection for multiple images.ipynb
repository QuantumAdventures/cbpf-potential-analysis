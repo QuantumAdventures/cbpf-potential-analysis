{
 "cells": [
  {
   "cell_type": "code",
   "execution_count": 2,
   "id": "51049c98",
   "metadata": {},
   "outputs": [],
   "source": [
    "import cv2\n",
    "import os\n",
    "import matplotlib.pyplot as plt\n",
    "import numpy as np\n",
    "import pandas as pd\n",
    "import seaborn as sns\n",
    "from tqdm import tqdm"
   ]
  },
  {
   "cell_type": "code",
   "execution_count": 23,
   "id": "ee54c10d",
   "metadata": {},
   "outputs": [],
   "source": [
    "def find_particle(params):\n",
    "    '''\n",
    "    TO DO\n",
    "    \n",
    "    Add all the code implemented in the notebook number 2 here, this will allow to execute\n",
    "    the image processing method you created for each frame of the video\n",
    "    \n",
    "    '''\n",
    "    pass\n"
   ]
  },
  {
   "cell_type": "code",
   "execution_count": 24,
   "id": "5c0c1e2c",
   "metadata": {},
   "outputs": [
    {
     "name": "stderr",
     "output_type": "stream",
     "text": [
      " 51%|████████████████████▌                   | 331/645 [00:12<00:11, 28.45it/s]/tmp/ipykernel_65108/1755573406.py:59: RuntimeWarning: Mean of empty slice.\n",
      "  return contrast, x+init_x, y+init_y, radius, brigthness.mean()\n",
      "/Users/oscarkremer/miniconda3/lib/python3.8/site-packages/numpy/core/_methods.py:188: RuntimeWarning: invalid value encountered in double_scalars\n",
      "  ret = ret.dtype.type(ret / rcount)\n",
      "100%|████████████████████████████████████████| 645/645 [00:23<00:00, 27.85it/s]\n"
     ]
    }
   ],
   "source": [
    "filenames, xs, ys, radiuss, bright_list = [], [], [], [], []\n"
   ]
  },
  {
   "cell_type": "code",
   "execution_count": 26,
   "id": "e71c57d3",
   "metadata": {},
   "outputs": [
    {
     "data": {
      "text/html": [
       "<div>\n",
       "<style scoped>\n",
       "    .dataframe tbody tr th:only-of-type {\n",
       "        vertical-align: middle;\n",
       "    }\n",
       "\n",
       "    .dataframe tbody tr th {\n",
       "        vertical-align: top;\n",
       "    }\n",
       "\n",
       "    .dataframe thead th {\n",
       "        text-align: right;\n",
       "    }\n",
       "</style>\n",
       "<table border=\"1\" class=\"dataframe\">\n",
       "  <thead>\n",
       "    <tr style=\"text-align: right;\">\n",
       "      <th></th>\n",
       "      <th>filename</th>\n",
       "      <th>radius</th>\n",
       "      <th>x</th>\n",
       "      <th>y</th>\n",
       "      <th>z</th>\n",
       "      <th>index</th>\n",
       "    </tr>\n",
       "  </thead>\n",
       "  <tbody>\n",
       "    <tr>\n",
       "      <th>0</th>\n",
       "      <td>frame583.jpg</td>\n",
       "      <td>13.851260</td>\n",
       "      <td>675.127548</td>\n",
       "      <td>385.581635</td>\n",
       "      <td>93.663941</td>\n",
       "      <td>583</td>\n",
       "    </tr>\n",
       "    <tr>\n",
       "      <th>1</th>\n",
       "      <td>frame597.jpg</td>\n",
       "      <td>14.422305</td>\n",
       "      <td>675.000000</td>\n",
       "      <td>385.000000</td>\n",
       "      <td>91.452993</td>\n",
       "      <td>597</td>\n",
       "    </tr>\n",
       "    <tr>\n",
       "      <th>2</th>\n",
       "      <td>frame540.jpg</td>\n",
       "      <td>14.214621</td>\n",
       "      <td>674.854836</td>\n",
       "      <td>387.822578</td>\n",
       "      <td>95.846009</td>\n",
       "      <td>540</td>\n",
       "    </tr>\n",
       "    <tr>\n",
       "      <th>3</th>\n",
       "      <td>frame226.jpg</td>\n",
       "      <td>13.764314</td>\n",
       "      <td>675.147537</td>\n",
       "      <td>386.926231</td>\n",
       "      <td>94.833818</td>\n",
       "      <td>226</td>\n",
       "    </tr>\n",
       "    <tr>\n",
       "      <th>4</th>\n",
       "      <td>frame232.jpg</td>\n",
       "      <td>13.038505</td>\n",
       "      <td>676.000000</td>\n",
       "      <td>387.000000</td>\n",
       "      <td>95.888314</td>\n",
       "      <td>232</td>\n",
       "    </tr>\n",
       "  </tbody>\n",
       "</table>\n",
       "</div>"
      ],
      "text/plain": [
       "       filename     radius           x           y          z  index\n",
       "0  frame583.jpg  13.851260  675.127548  385.581635  93.663941    583\n",
       "1  frame597.jpg  14.422305  675.000000  385.000000  91.452993    597\n",
       "2  frame540.jpg  14.214621  674.854836  387.822578  95.846009    540\n",
       "3  frame226.jpg  13.764314  675.147537  386.926231  94.833818    226\n",
       "4  frame232.jpg  13.038505  676.000000  387.000000  95.888314    232"
      ]
     },
     "execution_count": 26,
     "metadata": {},
     "output_type": "execute_result"
    }
   ],
   "source": [
    "'''\n",
    "TO DO\n",
    "\n",
    "Create a dataframe containing the following columns:\n",
    "\n",
    "x, y, radius, index (number of the frame) and filename\n",
    "\n",
    "Save this dataframe in the .csv format in the folder data/dataframes\n",
    "\n",
    "''' \n",
    "\n",
    "\n"
   ]
  }
 ],
 "metadata": {
  "kernelspec": {
   "display_name": "Python 3 (ipykernel)",
   "language": "python",
   "name": "python3"
  },
  "language_info": {
   "codemirror_mode": {
    "name": "ipython",
    "version": 3
   },
   "file_extension": ".py",
   "mimetype": "text/x-python",
   "name": "python",
   "nbconvert_exporter": "python",
   "pygments_lexer": "ipython3",
   "version": "3.8.5"
  }
 },
 "nbformat": 4,
 "nbformat_minor": 5
}
