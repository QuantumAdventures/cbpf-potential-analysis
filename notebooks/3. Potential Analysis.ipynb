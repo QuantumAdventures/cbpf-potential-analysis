{
 "cells": [
  {
   "cell_type": "markdown",
   "id": "79ab834e",
   "metadata": {},
   "source": [
    "### Potential Analysis\n",
    "\n",
    "A brief summary of the organization of this notebook:\n",
    "\n",
    "### Summary\n",
    "\n",
    "- [1 - Packages and imports](#1)\n",
    "\n",
    "- [2 - Load data and define constants](#2)\n",
    "\n",
    "- [3 - Potential analysis](#3)"
   ]
  },
  {
   "cell_type": "markdown",
   "id": "a032369c",
   "metadata": {},
   "source": [
    "<a name='1'></a> \n",
    "### 1. Packages and imports"
   ]
  },
  {
   "cell_type": "code",
   "execution_count": null,
   "id": "e7588e18",
   "metadata": {},
   "outputs": [],
   "source": [
    "import matplotlib\n",
    "import pandas as pd\n",
    "import numpy as np\n",
    "import seaborn as sns\n",
    "import matplotlib.pyplot as plt\n",
    "from scipy.signal import correlate\n",
    "from scipy.optimize import curve_fit\n",
    "plt.rcParams[\"figure.autolayout\"] = True\n",
    "plt.rcParams[\"axes.edgecolor\"] = \"black\"\n",
    "plt.rcParams[\"axes.linewidth\"] = 2\n",
    "plt.rcParams.update({'font.size': 15})"
   ]
  },
  {
   "cell_type": "markdown",
   "id": "7e7e14a2",
   "metadata": {},
   "source": [
    "<a name='2'></a> \n",
    "### 2. Load data and define constants"
   ]
  },
  {
   "cell_type": "code",
   "execution_count": null,
   "id": "732a357e",
   "metadata": {},
   "outputs": [],
   "source": [
    "kb = 1.380649*(10**-23)\n",
    "T = 300\n",
    "'''\n",
    "TO DO\n",
    "\n",
    "Read the .csv file created in the last notebook \n",
    "Create two columns: `x-um` and `y-um`, using the factor to convert from pixel to meters.\n",
    "'''\n",
    "\n",
    "\n"
   ]
  },
  {
   "cell_type": "code",
   "execution_count": null,
   "id": "e16f7376",
   "metadata": {},
   "outputs": [],
   "source": [
    "'''\n",
    "TO DO\n",
    "\n",
    "Create a plot with two subplots, organized in two rows, the first (upper plot) will show the x-coordinate\n",
    "in um and the second (bottom) will show y-coordinate as function of time. \n",
    "'''"
   ]
  },
  {
   "cell_type": "markdown",
   "id": "724d580a",
   "metadata": {},
   "source": [
    "<a name='3'></a> \n",
    "### 3. Potential analysis\n",
    "\n",
    "With the traces loaded is possible to find the distributions and as consequence coefficientes $k_\\rho$, $k_z$ and $k_{z,\\rho}$ of the potential. The `prob_distr` defines the function to be fitted."
   ]
  },
  {
   "cell_type": "code",
   "execution_count": null,
   "id": "bee17567",
   "metadata": {},
   "outputs": [],
   "source": [
    "'''\n",
    "TO DO\n",
    "\n",
    "Implement the `prob_distr` function. The parameters are a multiplicative constant C and the k factor\n",
    "'''\n",
    "\n",
    "def prob_distr(data, C, k):\n",
    "    pass    "
   ]
  },
  {
   "cell_type": "code",
   "execution_count": null,
   "id": "56d56163",
   "metadata": {},
   "outputs": [],
   "source": [
    "'''\n",
    "TO DO\n",
    "\n",
    "Here the potential analysis will be implemented, the steps are:\n",
    "\n",
    "1. Create a histogram from the x and y vectors\n",
    "2. The values of the histogram will be passed to a scipy method called `curve_fit`\n",
    "3. The fit will find values of C and k that will.\n",
    "4. Make a image plotting both histogram and the fits.\n",
    "'''\n",
    "\n"
   ]
  }
 ],
 "metadata": {
  "kernelspec": {
   "display_name": "Python 3 (ipykernel)",
   "language": "python",
   "name": "python3"
  },
  "language_info": {
   "codemirror_mode": {
    "name": "ipython",
    "version": 3
   },
   "file_extension": ".py",
   "mimetype": "text/x-python",
   "name": "python",
   "nbconvert_exporter": "python",
   "pygments_lexer": "ipython3",
   "version": "3.8.5"
  }
 },
 "nbformat": 4,
 "nbformat_minor": 5
}
